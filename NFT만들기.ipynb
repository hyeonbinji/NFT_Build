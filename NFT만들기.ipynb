{
 "cells": [
  {
   "cell_type": "code",
   "execution_count": 1,
   "id": "195cc5e8",
   "metadata": {},
   "outputs": [],
   "source": [
    "from PIL import Image\n",
    "from IPython.display import display\n",
    "import random\n",
    "import json\n",
    "import os"
   ]
  },
  {
   "cell_type": "markdown",
   "id": "e2056bba",
   "metadata": {},
   "source": [
    "## NFT 제작"
   ]
  },
  {
   "cell_type": "code",
   "execution_count": 10,
   "id": "f1b8a403",
   "metadata": {},
   "outputs": [],
   "source": [
    "#레어리티 설정\n",
    "background = ['Grey_1','Grey_2','Blue','Orange','Purple','Yellow','Black']\n",
    "background_weights = [25,25,20,15,7,5,3]\n",
    "\n",
    "body = ['Body']\n",
    "body_weights = [100]\n",
    "\n",
    "eyes = ['Normal_eyes','Smiling_eyes','Closed_eyes']\n",
    "eyes_weights = [40,40,20]\n",
    "\n",
    "mouth = ['Laughing_mouth','Normal_mouth','Concern_mouth']\n",
    "mouth_weights = [40,30,30]\n",
    "\n",
    "acc = ['Glasses','Hat','None']\n",
    "acc_weights = [20,20,60]\n",
    "\n",
    "clothes = ['Inha_jacket','Inha_padded_black','Inha_padded_white','None']\n",
    "clothes_weights = [30,15,15,40]"
   ]
  },
  {
   "cell_type": "code",
   "execution_count": 11,
   "id": "b0ae331d",
   "metadata": {},
   "outputs": [],
   "source": [
    "#Classify traits(딕셔너리화)\n",
    "\n",
    "background_files = {\n",
    "    'Grey_1':'back_1',\n",
    "    'Grey_2':'back_2',\n",
    "    'Blue':'back_3',\n",
    "    'Orange':'back_4',\n",
    "    'Purple':'back_5',\n",
    "    'Yellow':'back_6',\n",
    "    'Black':'back_7',  \n",
    "}\n",
    "\n",
    "body_files = {'Body':'몸통'}\n",
    "\n",
    "eyes_files = {\n",
    "    'Normal_eyes':'눈 1',\n",
    "    'Smiling_eyes':'눈 2',\n",
    "    'Closed_eyes':'눈 3',\n",
    "}\n",
    "\n",
    "mouth_files = {\n",
    "    'Laughing_mouth':'입 1',\n",
    "    'Normal_mouth':'입 2',\n",
    "    'Concern_mouth':'입 3',\n",
    "}\n",
    "\n",
    "acc_files = {\n",
    "    'Glasses':'악세사리 1',\n",
    "    'Hat':'악세사리 2',\n",
    "    'None':'악세사리 3'\n",
    "}\n",
    "\n",
    "clothes_files = {\n",
    "    'Inha_jacket':'옷 1',\n",
    "    'Inha_padded_black':'옷 2',\n",
    "    'Inha_padded_white':'옷 3',\n",
    "    'None':'옷 4'\n",
    "}"
   ]
  },
  {
   "cell_type": "code",
   "execution_count": 12,
   "id": "33e136ca",
   "metadata": {},
   "outputs": [
    {
     "name": "stdout",
     "output_type": "stream",
     "text": [
      "[{'Background': 'Orange', 'Body': 'Body', 'Eyes': 'Smiling_eyes', 'Mouth': 'Laughing_mouth', 'Acc': 'None', 'Clothes': 'Inha_jacket'}, {'Background': 'Blue', 'Body': 'Body', 'Eyes': 'Normal_eyes', 'Mouth': 'Laughing_mouth', 'Acc': 'Hat', 'Clothes': 'Inha_jacket'}, {'Background': 'Purple', 'Body': 'Body', 'Eyes': 'Normal_eyes', 'Mouth': 'Laughing_mouth', 'Acc': 'None', 'Clothes': 'Inha_jacket'}, {'Background': 'Yellow', 'Body': 'Body', 'Eyes': 'Smiling_eyes', 'Mouth': 'Concern_mouth', 'Acc': 'None', 'Clothes': 'Inha_padded_white'}, {'Background': 'Yellow', 'Body': 'Body', 'Eyes': 'Normal_eyes', 'Mouth': 'Concern_mouth', 'Acc': 'None', 'Clothes': 'None'}, {'Background': 'Grey_2', 'Body': 'Body', 'Eyes': 'Smiling_eyes', 'Mouth': 'Concern_mouth', 'Acc': 'None', 'Clothes': 'Inha_padded_white'}, {'Background': 'Blue', 'Body': 'Body', 'Eyes': 'Closed_eyes', 'Mouth': 'Normal_mouth', 'Acc': 'None', 'Clothes': 'None'}, {'Background': 'Blue', 'Body': 'Body', 'Eyes': 'Closed_eyes', 'Mouth': 'Concern_mouth', 'Acc': 'Hat', 'Clothes': 'Inha_padded_black'}, {'Background': 'Grey_1', 'Body': 'Body', 'Eyes': 'Normal_eyes', 'Mouth': 'Concern_mouth', 'Acc': 'None', 'Clothes': 'Inha_jacket'}, {'Background': 'Grey_2', 'Body': 'Body', 'Eyes': 'Smiling_eyes', 'Mouth': 'Normal_mouth', 'Acc': 'Glasses', 'Clothes': 'Inha_padded_white'}, {'Background': 'Blue', 'Body': 'Body', 'Eyes': 'Normal_eyes', 'Mouth': 'Concern_mouth', 'Acc': 'None', 'Clothes': 'Inha_jacket'}, {'Background': 'Grey_2', 'Body': 'Body', 'Eyes': 'Smiling_eyes', 'Mouth': 'Concern_mouth', 'Acc': 'None', 'Clothes': 'None'}, {'Background': 'Blue', 'Body': 'Body', 'Eyes': 'Smiling_eyes', 'Mouth': 'Laughing_mouth', 'Acc': 'Glasses', 'Clothes': 'None'}, {'Background': 'Grey_2', 'Body': 'Body', 'Eyes': 'Normal_eyes', 'Mouth': 'Laughing_mouth', 'Acc': 'None', 'Clothes': 'Inha_padded_black'}, {'Background': 'Grey_2', 'Body': 'Body', 'Eyes': 'Normal_eyes', 'Mouth': 'Laughing_mouth', 'Acc': 'Hat', 'Clothes': 'Inha_padded_white'}, {'Background': 'Orange', 'Body': 'Body', 'Eyes': 'Normal_eyes', 'Mouth': 'Concern_mouth', 'Acc': 'None', 'Clothes': 'None'}, {'Background': 'Grey_1', 'Body': 'Body', 'Eyes': 'Normal_eyes', 'Mouth': 'Normal_mouth', 'Acc': 'None', 'Clothes': 'Inha_padded_white'}, {'Background': 'Grey_2', 'Body': 'Body', 'Eyes': 'Normal_eyes', 'Mouth': 'Laughing_mouth', 'Acc': 'Glasses', 'Clothes': 'Inha_padded_white'}, {'Background': 'Grey_1', 'Body': 'Body', 'Eyes': 'Normal_eyes', 'Mouth': 'Laughing_mouth', 'Acc': 'None', 'Clothes': 'Inha_padded_white'}, {'Background': 'Grey_1', 'Body': 'Body', 'Eyes': 'Normal_eyes', 'Mouth': 'Concern_mouth', 'Acc': 'None', 'Clothes': 'None'}, {'Background': 'Grey_2', 'Body': 'Body', 'Eyes': 'Closed_eyes', 'Mouth': 'Concern_mouth', 'Acc': 'None', 'Clothes': 'Inha_jacket'}, {'Background': 'Grey_1', 'Body': 'Body', 'Eyes': 'Smiling_eyes', 'Mouth': 'Laughing_mouth', 'Acc': 'Glasses', 'Clothes': 'Inha_padded_black'}, {'Background': 'Orange', 'Body': 'Body', 'Eyes': 'Normal_eyes', 'Mouth': 'Concern_mouth', 'Acc': 'None', 'Clothes': 'Inha_padded_white'}, {'Background': 'Grey_2', 'Body': 'Body', 'Eyes': 'Normal_eyes', 'Mouth': 'Normal_mouth', 'Acc': 'None', 'Clothes': 'Inha_padded_black'}, {'Background': 'Grey_2', 'Body': 'Body', 'Eyes': 'Smiling_eyes', 'Mouth': 'Concern_mouth', 'Acc': 'None', 'Clothes': 'Inha_padded_black'}, {'Background': 'Grey_2', 'Body': 'Body', 'Eyes': 'Closed_eyes', 'Mouth': 'Concern_mouth', 'Acc': 'Hat', 'Clothes': 'Inha_padded_white'}, {'Background': 'Grey_1', 'Body': 'Body', 'Eyes': 'Smiling_eyes', 'Mouth': 'Concern_mouth', 'Acc': 'None', 'Clothes': 'None'}, {'Background': 'Grey_1', 'Body': 'Body', 'Eyes': 'Smiling_eyes', 'Mouth': 'Normal_mouth', 'Acc': 'Hat', 'Clothes': 'Inha_jacket'}, {'Background': 'Orange', 'Body': 'Body', 'Eyes': 'Normal_eyes', 'Mouth': 'Normal_mouth', 'Acc': 'Hat', 'Clothes': 'None'}, {'Background': 'Blue', 'Body': 'Body', 'Eyes': 'Closed_eyes', 'Mouth': 'Concern_mouth', 'Acc': 'Glasses', 'Clothes': 'None'}, {'Background': 'Grey_1', 'Body': 'Body', 'Eyes': 'Normal_eyes', 'Mouth': 'Laughing_mouth', 'Acc': 'None', 'Clothes': 'None'}, {'Background': 'Grey_1', 'Body': 'Body', 'Eyes': 'Smiling_eyes', 'Mouth': 'Concern_mouth', 'Acc': 'None', 'Clothes': 'Inha_jacket'}, {'Background': 'Grey_2', 'Body': 'Body', 'Eyes': 'Normal_eyes', 'Mouth': 'Normal_mouth', 'Acc': 'None', 'Clothes': 'Inha_jacket'}, {'Background': 'Blue', 'Body': 'Body', 'Eyes': 'Normal_eyes', 'Mouth': 'Normal_mouth', 'Acc': 'Hat', 'Clothes': 'None'}, {'Background': 'Blue', 'Body': 'Body', 'Eyes': 'Normal_eyes', 'Mouth': 'Laughing_mouth', 'Acc': 'None', 'Clothes': 'Inha_padded_white'}, {'Background': 'Purple', 'Body': 'Body', 'Eyes': 'Smiling_eyes', 'Mouth': 'Laughing_mouth', 'Acc': 'None', 'Clothes': 'None'}, {'Background': 'Black', 'Body': 'Body', 'Eyes': 'Smiling_eyes', 'Mouth': 'Concern_mouth', 'Acc': 'None', 'Clothes': 'Inha_padded_black'}, {'Background': 'Grey_2', 'Body': 'Body', 'Eyes': 'Normal_eyes', 'Mouth': 'Laughing_mouth', 'Acc': 'Hat', 'Clothes': 'Inha_jacket'}, {'Background': 'Blue', 'Body': 'Body', 'Eyes': 'Smiling_eyes', 'Mouth': 'Concern_mouth', 'Acc': 'None', 'Clothes': 'Inha_padded_white'}, {'Background': 'Blue', 'Body': 'Body', 'Eyes': 'Smiling_eyes', 'Mouth': 'Normal_mouth', 'Acc': 'None', 'Clothes': 'Inha_jacket'}, {'Background': 'Orange', 'Body': 'Body', 'Eyes': 'Smiling_eyes', 'Mouth': 'Normal_mouth', 'Acc': 'None', 'Clothes': 'Inha_jacket'}, {'Background': 'Orange', 'Body': 'Body', 'Eyes': 'Smiling_eyes', 'Mouth': 'Laughing_mouth', 'Acc': 'Glasses', 'Clothes': 'Inha_padded_black'}, {'Background': 'Grey_1', 'Body': 'Body', 'Eyes': 'Smiling_eyes', 'Mouth': 'Laughing_mouth', 'Acc': 'Glasses', 'Clothes': 'None'}, {'Background': 'Blue', 'Body': 'Body', 'Eyes': 'Smiling_eyes', 'Mouth': 'Concern_mouth', 'Acc': 'None', 'Clothes': 'None'}, {'Background': 'Orange', 'Body': 'Body', 'Eyes': 'Normal_eyes', 'Mouth': 'Normal_mouth', 'Acc': 'Glasses', 'Clothes': 'None'}, {'Background': 'Grey_2', 'Body': 'Body', 'Eyes': 'Normal_eyes', 'Mouth': 'Concern_mouth', 'Acc': 'None', 'Clothes': 'None'}, {'Background': 'Blue', 'Body': 'Body', 'Eyes': 'Closed_eyes', 'Mouth': 'Concern_mouth', 'Acc': 'Hat', 'Clothes': 'Inha_jacket'}, {'Background': 'Grey_2', 'Body': 'Body', 'Eyes': 'Normal_eyes', 'Mouth': 'Laughing_mouth', 'Acc': 'None', 'Clothes': 'None'}, {'Background': 'Orange', 'Body': 'Body', 'Eyes': 'Closed_eyes', 'Mouth': 'Normal_mouth', 'Acc': 'None', 'Clothes': 'None'}]\n"
     ]
    }
   ],
   "source": [
    "#Define image traits\n",
    "Total_images = 49\n",
    "\n",
    "all_images = []\n",
    "\n",
    "def create_new_image():\n",
    "    \n",
    "    new_image = {}#딕셔너리 형태\n",
    "    \n",
    "    #확률 근거 하나씩 뽑기\n",
    "    new_image['Background'] = random.choices(background,background_weights)[0]\n",
    "    new_image['Body'] = random.choices(body,body_weights)[0]\n",
    "    new_image['Eyes'] = random.choices(eyes,eyes_weights)[0]\n",
    "    new_image['Mouth'] = random.choices(mouth,mouth_weights)[0]\n",
    "    new_image['Acc'] = random.choices(acc,acc_weights)[0]\n",
    "    new_image['Clothes'] = random.choices(clothes,clothes_weights)[0]\n",
    "    \n",
    "    if new_image in all_images:\n",
    "        return create_new_image()#중복이면 다시 만들기\n",
    "    else:\n",
    "        return new_image\n",
    "    \n",
    "for i in range(Total_images):\n",
    "    \n",
    "    new_trait_image = create_new_image()\n",
    "    \n",
    "    all_images.append(new_trait_image)\n",
    "    \n",
    "print(all_images)"
   ]
  },
  {
   "cell_type": "code",
   "execution_count": 13,
   "id": "150cba50",
   "metadata": {},
   "outputs": [
    {
     "name": "stdout",
     "output_type": "stream",
     "text": [
      "Are all images unique? True\n",
      "[{'Background': 'Orange', 'Body': 'Body', 'Eyes': 'Smiling_eyes', 'Mouth': 'Laughing_mouth', 'Acc': 'None', 'Clothes': 'Inha_jacket', 'tokenId': 0}, {'Background': 'Blue', 'Body': 'Body', 'Eyes': 'Normal_eyes', 'Mouth': 'Laughing_mouth', 'Acc': 'Hat', 'Clothes': 'Inha_jacket', 'tokenId': 1}, {'Background': 'Purple', 'Body': 'Body', 'Eyes': 'Normal_eyes', 'Mouth': 'Laughing_mouth', 'Acc': 'None', 'Clothes': 'Inha_jacket', 'tokenId': 2}, {'Background': 'Yellow', 'Body': 'Body', 'Eyes': 'Smiling_eyes', 'Mouth': 'Concern_mouth', 'Acc': 'None', 'Clothes': 'Inha_padded_white', 'tokenId': 3}, {'Background': 'Yellow', 'Body': 'Body', 'Eyes': 'Normal_eyes', 'Mouth': 'Concern_mouth', 'Acc': 'None', 'Clothes': 'None', 'tokenId': 4}, {'Background': 'Grey_2', 'Body': 'Body', 'Eyes': 'Smiling_eyes', 'Mouth': 'Concern_mouth', 'Acc': 'None', 'Clothes': 'Inha_padded_white', 'tokenId': 5}, {'Background': 'Blue', 'Body': 'Body', 'Eyes': 'Closed_eyes', 'Mouth': 'Normal_mouth', 'Acc': 'None', 'Clothes': 'None', 'tokenId': 6}, {'Background': 'Blue', 'Body': 'Body', 'Eyes': 'Closed_eyes', 'Mouth': 'Concern_mouth', 'Acc': 'Hat', 'Clothes': 'Inha_padded_black', 'tokenId': 7}, {'Background': 'Grey_1', 'Body': 'Body', 'Eyes': 'Normal_eyes', 'Mouth': 'Concern_mouth', 'Acc': 'None', 'Clothes': 'Inha_jacket', 'tokenId': 8}, {'Background': 'Grey_2', 'Body': 'Body', 'Eyes': 'Smiling_eyes', 'Mouth': 'Normal_mouth', 'Acc': 'Glasses', 'Clothes': 'Inha_padded_white', 'tokenId': 9}, {'Background': 'Blue', 'Body': 'Body', 'Eyes': 'Normal_eyes', 'Mouth': 'Concern_mouth', 'Acc': 'None', 'Clothes': 'Inha_jacket', 'tokenId': 10}, {'Background': 'Grey_2', 'Body': 'Body', 'Eyes': 'Smiling_eyes', 'Mouth': 'Concern_mouth', 'Acc': 'None', 'Clothes': 'None', 'tokenId': 11}, {'Background': 'Blue', 'Body': 'Body', 'Eyes': 'Smiling_eyes', 'Mouth': 'Laughing_mouth', 'Acc': 'Glasses', 'Clothes': 'None', 'tokenId': 12}, {'Background': 'Grey_2', 'Body': 'Body', 'Eyes': 'Normal_eyes', 'Mouth': 'Laughing_mouth', 'Acc': 'None', 'Clothes': 'Inha_padded_black', 'tokenId': 13}, {'Background': 'Grey_2', 'Body': 'Body', 'Eyes': 'Normal_eyes', 'Mouth': 'Laughing_mouth', 'Acc': 'Hat', 'Clothes': 'Inha_padded_white', 'tokenId': 14}, {'Background': 'Orange', 'Body': 'Body', 'Eyes': 'Normal_eyes', 'Mouth': 'Concern_mouth', 'Acc': 'None', 'Clothes': 'None', 'tokenId': 15}, {'Background': 'Grey_1', 'Body': 'Body', 'Eyes': 'Normal_eyes', 'Mouth': 'Normal_mouth', 'Acc': 'None', 'Clothes': 'Inha_padded_white', 'tokenId': 16}, {'Background': 'Grey_2', 'Body': 'Body', 'Eyes': 'Normal_eyes', 'Mouth': 'Laughing_mouth', 'Acc': 'Glasses', 'Clothes': 'Inha_padded_white', 'tokenId': 17}, {'Background': 'Grey_1', 'Body': 'Body', 'Eyes': 'Normal_eyes', 'Mouth': 'Laughing_mouth', 'Acc': 'None', 'Clothes': 'Inha_padded_white', 'tokenId': 18}, {'Background': 'Grey_1', 'Body': 'Body', 'Eyes': 'Normal_eyes', 'Mouth': 'Concern_mouth', 'Acc': 'None', 'Clothes': 'None', 'tokenId': 19}, {'Background': 'Grey_2', 'Body': 'Body', 'Eyes': 'Closed_eyes', 'Mouth': 'Concern_mouth', 'Acc': 'None', 'Clothes': 'Inha_jacket', 'tokenId': 20}, {'Background': 'Grey_1', 'Body': 'Body', 'Eyes': 'Smiling_eyes', 'Mouth': 'Laughing_mouth', 'Acc': 'Glasses', 'Clothes': 'Inha_padded_black', 'tokenId': 21}, {'Background': 'Orange', 'Body': 'Body', 'Eyes': 'Normal_eyes', 'Mouth': 'Concern_mouth', 'Acc': 'None', 'Clothes': 'Inha_padded_white', 'tokenId': 22}, {'Background': 'Grey_2', 'Body': 'Body', 'Eyes': 'Normal_eyes', 'Mouth': 'Normal_mouth', 'Acc': 'None', 'Clothes': 'Inha_padded_black', 'tokenId': 23}, {'Background': 'Grey_2', 'Body': 'Body', 'Eyes': 'Smiling_eyes', 'Mouth': 'Concern_mouth', 'Acc': 'None', 'Clothes': 'Inha_padded_black', 'tokenId': 24}, {'Background': 'Grey_2', 'Body': 'Body', 'Eyes': 'Closed_eyes', 'Mouth': 'Concern_mouth', 'Acc': 'Hat', 'Clothes': 'Inha_padded_white', 'tokenId': 25}, {'Background': 'Grey_1', 'Body': 'Body', 'Eyes': 'Smiling_eyes', 'Mouth': 'Concern_mouth', 'Acc': 'None', 'Clothes': 'None', 'tokenId': 26}, {'Background': 'Grey_1', 'Body': 'Body', 'Eyes': 'Smiling_eyes', 'Mouth': 'Normal_mouth', 'Acc': 'Hat', 'Clothes': 'Inha_jacket', 'tokenId': 27}, {'Background': 'Orange', 'Body': 'Body', 'Eyes': 'Normal_eyes', 'Mouth': 'Normal_mouth', 'Acc': 'Hat', 'Clothes': 'None', 'tokenId': 28}, {'Background': 'Blue', 'Body': 'Body', 'Eyes': 'Closed_eyes', 'Mouth': 'Concern_mouth', 'Acc': 'Glasses', 'Clothes': 'None', 'tokenId': 29}, {'Background': 'Grey_1', 'Body': 'Body', 'Eyes': 'Normal_eyes', 'Mouth': 'Laughing_mouth', 'Acc': 'None', 'Clothes': 'None', 'tokenId': 30}, {'Background': 'Grey_1', 'Body': 'Body', 'Eyes': 'Smiling_eyes', 'Mouth': 'Concern_mouth', 'Acc': 'None', 'Clothes': 'Inha_jacket', 'tokenId': 31}, {'Background': 'Grey_2', 'Body': 'Body', 'Eyes': 'Normal_eyes', 'Mouth': 'Normal_mouth', 'Acc': 'None', 'Clothes': 'Inha_jacket', 'tokenId': 32}, {'Background': 'Blue', 'Body': 'Body', 'Eyes': 'Normal_eyes', 'Mouth': 'Normal_mouth', 'Acc': 'Hat', 'Clothes': 'None', 'tokenId': 33}, {'Background': 'Blue', 'Body': 'Body', 'Eyes': 'Normal_eyes', 'Mouth': 'Laughing_mouth', 'Acc': 'None', 'Clothes': 'Inha_padded_white', 'tokenId': 34}, {'Background': 'Purple', 'Body': 'Body', 'Eyes': 'Smiling_eyes', 'Mouth': 'Laughing_mouth', 'Acc': 'None', 'Clothes': 'None', 'tokenId': 35}, {'Background': 'Black', 'Body': 'Body', 'Eyes': 'Smiling_eyes', 'Mouth': 'Concern_mouth', 'Acc': 'None', 'Clothes': 'Inha_padded_black', 'tokenId': 36}, {'Background': 'Grey_2', 'Body': 'Body', 'Eyes': 'Normal_eyes', 'Mouth': 'Laughing_mouth', 'Acc': 'Hat', 'Clothes': 'Inha_jacket', 'tokenId': 37}, {'Background': 'Blue', 'Body': 'Body', 'Eyes': 'Smiling_eyes', 'Mouth': 'Concern_mouth', 'Acc': 'None', 'Clothes': 'Inha_padded_white', 'tokenId': 38}, {'Background': 'Blue', 'Body': 'Body', 'Eyes': 'Smiling_eyes', 'Mouth': 'Normal_mouth', 'Acc': 'None', 'Clothes': 'Inha_jacket', 'tokenId': 39}, {'Background': 'Orange', 'Body': 'Body', 'Eyes': 'Smiling_eyes', 'Mouth': 'Normal_mouth', 'Acc': 'None', 'Clothes': 'Inha_jacket', 'tokenId': 40}, {'Background': 'Orange', 'Body': 'Body', 'Eyes': 'Smiling_eyes', 'Mouth': 'Laughing_mouth', 'Acc': 'Glasses', 'Clothes': 'Inha_padded_black', 'tokenId': 41}, {'Background': 'Grey_1', 'Body': 'Body', 'Eyes': 'Smiling_eyes', 'Mouth': 'Laughing_mouth', 'Acc': 'Glasses', 'Clothes': 'None', 'tokenId': 42}, {'Background': 'Blue', 'Body': 'Body', 'Eyes': 'Smiling_eyes', 'Mouth': 'Concern_mouth', 'Acc': 'None', 'Clothes': 'None', 'tokenId': 43}, {'Background': 'Orange', 'Body': 'Body', 'Eyes': 'Normal_eyes', 'Mouth': 'Normal_mouth', 'Acc': 'Glasses', 'Clothes': 'None', 'tokenId': 44}, {'Background': 'Grey_2', 'Body': 'Body', 'Eyes': 'Normal_eyes', 'Mouth': 'Concern_mouth', 'Acc': 'None', 'Clothes': 'None', 'tokenId': 45}, {'Background': 'Blue', 'Body': 'Body', 'Eyes': 'Closed_eyes', 'Mouth': 'Concern_mouth', 'Acc': 'Hat', 'Clothes': 'Inha_jacket', 'tokenId': 46}, {'Background': 'Grey_2', 'Body': 'Body', 'Eyes': 'Normal_eyes', 'Mouth': 'Laughing_mouth', 'Acc': 'None', 'Clothes': 'None', 'tokenId': 47}, {'Background': 'Orange', 'Body': 'Body', 'Eyes': 'Closed_eyes', 'Mouth': 'Normal_mouth', 'Acc': 'None', 'Clothes': 'None', 'tokenId': 48}]\n"
     ]
    }
   ],
   "source": [
    "# Returns true if all images are unique\n",
    "def all_images_unique(all_images):\n",
    "    seen = list()\n",
    "    return not any(i in seen or seen.append(i) for i in all_images)\n",
    "\n",
    "print(\"Are all images unique?\", all_images_unique(all_images))\n",
    "\n",
    "\n",
    "i = 0 #각 image에 토큰 부여\n",
    "for item in all_images:\n",
    "    item[\"tokenId\"] = i\n",
    "    i = i + 1\n",
    "\n",
    "print(all_images)"
   ]
  },
  {
   "cell_type": "code",
   "execution_count": 14,
   "id": "1f30125e",
   "metadata": {},
   "outputs": [
    {
     "name": "stdout",
     "output_type": "stream",
     "text": [
      "{'Grey_1': 10, 'Grey_2': 14, 'Blue': 12, 'Orange': 8, 'Purple': 2, 'Yellow': 2, 'Black': 1}\n",
      "{'Body': 49}\n",
      "{'Normal_eyes': 23, 'Smiling_eyes': 19, 'Closed_eyes': 7}\n",
      "{'Laughing_mouth': 16, 'Normal_mouth': 12, 'Concern_mouth': 21}\n",
      "{'Glasses': 8, 'Hat': 9, 'None': 32}\n",
      "{'Inha_jacket': 13, 'Inha_padded_black': 7, 'Inha_padded_white': 11, 'None': 18}\n"
     ]
    }
   ],
   "source": [
    "background_count = {}\n",
    "for item in background:\n",
    "    background_count[item] = 0\n",
    "    \n",
    "body_count = {}\n",
    "for item in body:\n",
    "    body_count[item] = 0\n",
    "    \n",
    "eyes_count = {}\n",
    "for item in eyes:\n",
    "    eyes_count[item] = 0\n",
    "    \n",
    "mouth_count = {}\n",
    "for item in mouth:\n",
    "    mouth_count[item] = 0\n",
    "    \n",
    "acc_count = {}\n",
    "for item in acc:\n",
    "    acc_count[item] = 0\n",
    "    \n",
    "clothes_count = {}\n",
    "for item in clothes:\n",
    "    clothes_count[item] = 0\n",
    "    \n",
    "for image in all_images:\n",
    "    background_count[image['Background']] += 1\n",
    "    body_count[image['Body']] += 1\n",
    "    eyes_count[image['Eyes']] += 1\n",
    "    mouth_count[image['Mouth']] += 1\n",
    "    acc_count[image['Acc']] += 1\n",
    "    clothes_count[image['Clothes']] += 1\n",
    "\n",
    "print(background_count)\n",
    "print(body_count)\n",
    "print(eyes_count)\n",
    "print(mouth_count)\n",
    "print(acc_count)\n",
    "print(clothes_count)\n",
    "\n",
    "#각각의 수 별로 count"
   ]
  },
  {
   "cell_type": "code",
   "execution_count": 15,
   "id": "3b91f487",
   "metadata": {},
   "outputs": [
    {
     "data": {
      "text/plain": [
       "{'Background': 'Orange',\n",
       " 'Body': 'Body',\n",
       " 'Eyes': 'Smiling_eyes',\n",
       " 'Mouth': 'Laughing_mouth',\n",
       " 'Acc': 'None',\n",
       " 'Clothes': 'Inha_jacket',\n",
       " 'tokenId': 0}"
      ]
     },
     "execution_count": 15,
     "metadata": {},
     "output_type": "execute_result"
    }
   ],
   "source": [
    "#Generate image: image 만들기\n",
    "all_images[0]"
   ]
  },
  {
   "cell_type": "code",
   "execution_count": 16,
   "id": "2300e6c2",
   "metadata": {},
   "outputs": [],
   "source": [
    "#폴더 디렉토리 만들기\n",
    "os.mkdir('images')\n",
    "\n",
    "\n",
    "for item in all_images:\n",
    "    \n",
    "    s1 = background_files[item['Background']]\n",
    "    s2 = body_files[item['Body']]\n",
    "    s3 = eyes_files[item['Eyes']]\n",
    "    s4 = mouth_files[item['Mouth']]\n",
    "    s5 = clothes_files[item['Clothes']]\n",
    "    s6 = acc_files[item['Acc']]\n",
    "    \n",
    "    im1 = Image.open(f'/Users/jihyeonbin/face_parts/back/{s1}.png').convert('RGBA')\n",
    "    im2 = Image.open(f'/Users/jihyeonbin/face_parts/body/{s2}.png').convert('RGBA')\n",
    "    im3 = Image.open(f'/Users/jihyeonbin/face_parts/eyes/{s3}.png').convert('RGBA')\n",
    "    im4 = Image.open(f'/Users/jihyeonbin/face_parts/mouth/{s4}.png').convert('RGBA')\n",
    "    im5 = Image.open(f'/Users/jihyeonbin/face_parts/clothes/{s5}.png').convert('RGBA')\n",
    "    im6 = Image.open(f'/Users/jihyeonbin/face_parts/acc/{s6}.png').convert('RGBA')\n",
    "  \n",
    "    #Create each composite\n",
    "    com1 = Image.alpha_composite(im1, im2)\n",
    "    com2 = Image.alpha_composite(com1, im3)\n",
    "    com3 = Image.alpha_composite(com2, im4)\n",
    "    com4 = Image.alpha_composite(com3, im5)\n",
    "    com5 = Image.alpha_composite(com4, im6)\n",
    " \n",
    "                     \n",
    " \n",
    "    #Convert to RGB\n",
    "    rgb_im = com5.convert('RGB')\n",
    "    file_name = str(item['tokenId']) + '.png'\n",
    "    rgb_im.save('images/' + file_name)\n",
    "\n",
    "#NFT 100개 생성 완료"
   ]
  },
  {
   "cell_type": "markdown",
   "id": "b0197adc",
   "metadata": {},
   "source": [
    "## NFT 메타데이터 제작"
   ]
  },
  {
   "cell_type": "markdown",
   "id": "6a7b946e",
   "metadata": {},
   "source": [
    "IPFS: 분산형 파일 시스템\n"
   ]
  },
  {
   "cell_type": "code",
   "execution_count": 17,
   "id": "0546f750",
   "metadata": {},
   "outputs": [],
   "source": [
    "#https://it.chosun.com/site/data/html_dir/2021/12/14/2021121401676.html"
   ]
  },
  {
   "cell_type": "code",
   "execution_count": 28,
   "id": "ff6b7ccb",
   "metadata": {},
   "outputs": [
    {
     "data": {
      "text/plain": [
       "{'Background': 'Orange',\n",
       " 'Body': 'Body',\n",
       " 'Eyes': 'Closed_eyes',\n",
       " 'Mouth': 'Normal_mouth',\n",
       " 'Acc': 'None',\n",
       " 'Clothes': 'None',\n",
       " 'tokenId': 48}"
      ]
     },
     "execution_count": 28,
     "metadata": {},
     "output_type": "execute_result"
    }
   ],
   "source": [
    "all_images[48]"
   ]
  },
  {
   "cell_type": "code",
   "execution_count": 29,
   "id": "cafa3d6c",
   "metadata": {
    "scrolled": true
   },
   "outputs": [],
   "source": [
    "#jason.dump() 통해 목록을 .json으로 덤프한다"
   ]
  },
  {
   "cell_type": "code",
   "execution_count": 30,
   "id": "d7f40f2b",
   "metadata": {},
   "outputs": [],
   "source": [
    "os.mkdir('./metadata')\n",
    "\n",
    "file_path = './metadata/all_traits.json'\n",
    "\n",
    "with open(file_path,'w') as outfile:\n",
    "    json.dump(all_images,outfile,indent=4)"
   ]
  },
  {
   "cell_type": "code",
   "execution_count": 37,
   "id": "1cd4e36f",
   "metadata": {},
   "outputs": [],
   "source": [
    "#각각의 이미지별로 Metatada제작\n",
    "\n",
    "f = open('./metadata/all_traits.json',)\n",
    "data = json.load(f)\n",
    "\n",
    "Images_base_url = 'https://gateway.pinata.cloud/ipfs/QmayLyza2Ay6nrz8KjxueZLXs8eMqDLhiTBXV3mhHNraji/?_gl=1*f4elh*_ga*NDY5MDY2MTc5LjE2NzQzMjI3MzY.*_ga_5RMPXG14TE*MTY3NDM2ODIyNy4zLjEuMTY3NDM3MDIxNy40My4wLjA./'\n",
    "Project_name = 'Inha_Mascot_NFT'\n",
    "\n",
    "def getAttribute(key,value):\n",
    "    return{\n",
    "        'trait_type':key,\n",
    "        'value':value\n",
    "    }\n",
    "\n",
    "for i in data:\n",
    "    token_id = i['tokenId']\n",
    "    token = {\n",
    "        'image':Images_base_url + str(token_id) + '.png',\n",
    "        'tokenId':token_id,\n",
    "        'name':Project_name + ' ' + str(token_id),\n",
    "        'attributes':[]\n",
    "    }\n",
    "    \n",
    "    token['attributes'].append(getAttribute('Background',i['Background']))\n",
    "    token['attributes'].append(getAttribute('Body',i['Body']))\n",
    "    token['attributes'].append(getAttribute('Eyes',i['Eyes']))\n",
    "    token['attributes'].append(getAttribute('Mouth',i['Mouth']))\n",
    "    token['attributes'].append(getAttribute('Acc',i['Acc']))\n",
    "    token['attributes'].append(getAttribute('Clothes',i['Clothes']))\n",
    "    \n",
    "    with open('./metadata/' + str(token_id) +'.json','w') as outfile:\n",
    "        json.dump(token,outfile,indent = 4)\n",
    "        \n",
    "f.close()"
   ]
  },
  {
   "cell_type": "code",
   "execution_count": null,
   "id": "09011e6e",
   "metadata": {},
   "outputs": [],
   "source": [
    "#Klay ERC21, 바오밥 클레이?\n",
    "\n",
    "#CID: 홈페이지 주소라고 생각 가능\n"
   ]
  }
 ],
 "metadata": {
  "kernelspec": {
   "display_name": "Python 3",
   "language": "python",
   "name": "python3"
  },
  "language_info": {
   "codemirror_mode": {
    "name": "ipython",
    "version": 3
   },
   "file_extension": ".py",
   "mimetype": "text/x-python",
   "name": "python",
   "nbconvert_exporter": "python",
   "pygments_lexer": "ipython3",
   "version": "3.8.8"
  }
 },
 "nbformat": 4,
 "nbformat_minor": 5
}
